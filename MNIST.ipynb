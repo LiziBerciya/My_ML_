{
  "nbformat": 4,
  "nbformat_minor": 0,
  "metadata": {
    "colab": {
      "provenance": []
    },
    "kernelspec": {
      "name": "python3",
      "display_name": "Python 3"
    },
    "language_info": {
      "name": "python"
    }
  },
  "cells": [
    {
      "cell_type": "code",
      "execution_count": null,
      "metadata": {
        "id": "dDm8gR6KPkLo"
      },
      "outputs": [],
      "source": [
        "import pandas as pd\n",
        "import matplotlib.pyplot as plt\n",
        "import numpy as np\n",
        "from scipy.sparse import csr_matrix"
      ]
    },
    {
      "cell_type": "code",
      "source": [
        "train = pd.read_csv('mnist_train.csv')\n",
        "print(train.head())\n",
        "print(train.info())\n",
        "print(\"\\n SHape of the dataset:\", train.shape)"
      ],
      "metadata": {
        "colab": {
          "base_uri": "https://localhost:8080/"
        },
        "id": "GZLvWrZYUwwS",
        "outputId": "710ae756-864c-4cf0-8511-7620e6ef64da"
      },
      "execution_count": null,
      "outputs": [
        {
          "output_type": "stream",
          "name": "stdout",
          "text": [
            "   label  1x1  1x2  1x3  1x4  1x5  1x6  1x7  1x8  1x9  ...  28x19  28x20  \\\n",
            "0      5    0    0    0    0    0    0    0    0    0  ...    0.0    0.0   \n",
            "1      0    0    0    0    0    0    0    0    0    0  ...    0.0    0.0   \n",
            "2      4    0    0    0    0    0    0    0    0    0  ...    0.0    0.0   \n",
            "3      1    0    0    0    0    0    0    0    0    0  ...    0.0    0.0   \n",
            "4      9    0    0    0    0    0    0    0    0    0  ...    0.0    0.0   \n",
            "\n",
            "   28x21  28x22  28x23  28x24  28x25  28x26  28x27  28x28  \n",
            "0    0.0    0.0    0.0    0.0    0.0    0.0    0.0    0.0  \n",
            "1    0.0    0.0    0.0    0.0    0.0    0.0    0.0    0.0  \n",
            "2    0.0    0.0    0.0    0.0    0.0    0.0    0.0    0.0  \n",
            "3    0.0    0.0    0.0    0.0    0.0    0.0    0.0    0.0  \n",
            "4    0.0    0.0    0.0    0.0    0.0    0.0    0.0    0.0  \n",
            "\n",
            "[5 rows x 785 columns]\n",
            "<class 'pandas.core.frame.DataFrame'>\n",
            "RangeIndex: 8602 entries, 0 to 8601\n",
            "Columns: 785 entries, label to 28x28\n",
            "dtypes: float64(120), int64(665)\n",
            "memory usage: 51.5 MB\n",
            "None\n",
            "\n",
            " SHape of the dataset: (8602, 785)\n"
          ]
        }
      ]
    },
    {
      "cell_type": "code",
      "source": [
        "#NaN values in the dataset ?\n",
        "nan = train.isnull().sum()\n",
        "print(nan[nan != 0])"
      ],
      "metadata": {
        "colab": {
          "base_uri": "https://localhost:8080/"
        },
        "id": "zVkNUyhSU5yo",
        "outputId": "6aeea3d9-95aa-434b-c61e-0706bc93299b"
      },
      "execution_count": null,
      "outputs": [
        {
          "output_type": "stream",
          "name": "stdout",
          "text": [
            "24x21    1\n",
            "24x22    1\n",
            "24x23    1\n",
            "24x24    1\n",
            "24x25    1\n",
            "        ..\n",
            "28x24    1\n",
            "28x25    1\n",
            "28x26    1\n",
            "28x27    1\n",
            "28x28    1\n",
            "Length: 120, dtype: int64\n"
          ]
        }
      ]
    },
    {
      "cell_type": "code",
      "source": [
        "#Displays 4 handwritten digit images\n",
        "def display_digits(N):\n",
        "    \"\"\"Picks-up randomly N images within the \n",
        "    train dataset between 0 and 41999 and displays the images\n",
        "    with 4 images/row\"\"\"\n",
        "    \n",
        "    train = pd.read_csv('mnist_train.csv')\n",
        "    images = np.random.randint(low=0, high=8602, size=N).tolist()\n",
        "    \n",
        "    subset_images = train.iloc[images,:]\n",
        "    subset_images.index = range(1, N+1)\n",
        "    print(\"Handwritten picked-up digits: \", subset_images['label'].values)\n",
        "    subset_images.drop(columns=['label'], inplace=True)\n",
        "\n",
        "    for i, row in subset_images.iterrows():\n",
        "        plt.subplot((N//8)+1, 8, i)\n",
        "        pixels = row.values.reshape((28,28))\n",
        "        plt.imshow(pixels, cmap='gray')\n",
        "        plt.xticks([])\n",
        "        plt.yticks([])\n",
        "    plt.title('Randomly picked-up images from the training dataset')\n",
        "    plt.show()\n",
        "\n",
        "    return \"\""
      ],
      "metadata": {
        "id": "DLqsBbwMVHfa"
      },
      "execution_count": null,
      "outputs": []
    },
    {
      "cell_type": "code",
      "source": [
        "display_digits(40)"
      ],
      "metadata": {
        "colab": {
          "base_uri": "https://localhost:8080/",
          "height": 355
        },
        "id": "TR5zBz6SVbzx",
        "outputId": "c5412a71-7208-453a-9fc5-1c724ae2ddc5"
      },
      "execution_count": null,
      "outputs": [
        {
          "output_type": "stream",
          "name": "stdout",
          "text": [
            "Handwritten picked-up digits:  [0 8 8 2 2 1 8 7 7 3 3 7 9 0 0 8 7 0 6 7 5 4 0 2 6 2 1 1 2 9 9 2 7 4 1 3 2\n",
            " 6 8 5]\n"
          ]
        },
        {
          "output_type": "stream",
          "name": "stderr",
          "text": [
            "/usr/local/lib/python3.7/dist-packages/pandas/core/frame.py:4913: SettingWithCopyWarning: \n",
            "A value is trying to be set on a copy of a slice from a DataFrame\n",
            "\n",
            "See the caveats in the documentation: https://pandas.pydata.org/pandas-docs/stable/user_guide/indexing.html#returning-a-view-versus-a-copy\n",
            "  errors=errors,\n"
          ]
        },
        {
          "output_type": "display_data",
          "data": {
            "text/plain": [
              "<Figure size 432x288 with 40 Axes>"
            ],
            "image/png": "[encoded data removed]"
          },
          "metadata": {}
        },
        {
          "output_type": "execute_result",
          "data": {
            "text/plain": [
              "''"
            ],
            "application/vnd.google.colaboratory.intrinsic+json": {
              "type": "string"
            }
          },
          "metadata": {},
          "execution_count": 9
        }
      ]
    },
    {
      "cell_type": "code",
      "source": [
        "#Analyse the pixels intensity values\n",
        "subset_pixels = train.iloc[:, 1:]\n",
        "subset_pixels.describe()"
      ],
      "metadata": {
        "colab": {
          "base_uri": "https://localhost:8080/",
          "height": 394
        },
        "id": "IIBWw7oweb63",
        "outputId": "ebacce05-60c2-4b40-9d91-17eac6700bc1"
      },
      "execution_count": null,
      "outputs": [
        {
          "output_type": "execute_result",
          "data": {
            "text/plain": [
              "          1x1     1x2     1x3     1x4     1x5     1x6     1x7     1x8     1x9  \\\n",
              "count  8602.0  8602.0  8602.0  8602.0  8602.0  8602.0  8602.0  8602.0  8602.0   \n",
              "mean      0.0     0.0     0.0     0.0     0.0     0.0     0.0     0.0     0.0   \n",
              "std       0.0     0.0     0.0     0.0     0.0     0.0     0.0     0.0     0.0   \n",
              "min       0.0     0.0     0.0     0.0     0.0     0.0     0.0     0.0     0.0   \n",
              "25%       0.0     0.0     0.0     0.0     0.0     0.0     0.0     0.0     0.0   \n",
              "50%       0.0     0.0     0.0     0.0     0.0     0.0     0.0     0.0     0.0   \n",
              "75%       0.0     0.0     0.0     0.0     0.0     0.0     0.0     0.0     0.0   \n",
              "max       0.0     0.0     0.0     0.0     0.0     0.0     0.0     0.0     0.0   \n",
              "\n",
              "         1x10  ...        28x19        28x20        28x21        28x22  \\\n",
              "count  8602.0  ...  8601.000000  8601.000000  8601.000000  8601.000000   \n",
              "mean      0.0  ...     0.194629     0.108011     0.065923     0.040112   \n",
              "std       0.0  ...     5.757767     3.938018     3.578710     2.250611   \n",
              "min       0.0  ...     0.000000     0.000000     0.000000     0.000000   \n",
              "25%       0.0  ...     0.000000     0.000000     0.000000     0.000000   \n",
              "50%       0.0  ...     0.000000     0.000000     0.000000     0.000000   \n",
              "75%       0.0  ...     0.000000     0.000000     0.000000     0.000000   \n",
              "max       0.0  ...   254.000000   254.000000   253.000000   187.000000   \n",
              "\n",
              "             28x23   28x24   28x25   28x26   28x27   28x28  \n",
              "count  8601.000000  8601.0  8601.0  8601.0  8601.0  8601.0  \n",
              "mean      0.039181     0.0     0.0     0.0     0.0     0.0  \n",
              "std       2.208856     0.0     0.0     0.0     0.0     0.0  \n",
              "min       0.000000     0.0     0.0     0.0     0.0     0.0  \n",
              "25%       0.000000     0.0     0.0     0.0     0.0     0.0  \n",
              "50%       0.000000     0.0     0.0     0.0     0.0     0.0  \n",
              "75%       0.000000     0.0     0.0     0.0     0.0     0.0  \n",
              "max     154.000000     0.0     0.0     0.0     0.0     0.0  \n",
              "\n",
              "[8 rows x 784 columns]"
            ],
            "text/html": [
              "\n",
              "  <div id=\"df-2037faad-9969-4a37-b801-0376fa1bd658\">\n",
              "    <div class=\"colab-df-container\">\n",
              "      <div>\n",
              "<style scoped>\n",
              "    .dataframe tbody tr th:only-of-type {\n",
              "        vertical-align: middle;\n",
              "    }\n",
              "\n",
              "    .dataframe tbody tr th {\n",
              "        vertical-align: top;\n",
              "    }\n",
              "\n",
              "    .dataframe thead th {\n",
              "        text-align: right;\n",
              "    }\n",
              "</style>\n",
              "<table border=\"1\" class=\"dataframe\">\n",
              "  <thead>\n",
              "    <tr style=\"text-align: right;\">\n",
              "      <th></th>\n",
              "      <th>1x1</th>\n",
              "      <th>1x2</th>\n",
              "      <th>1x3</th>\n",
              "      <th>1x4</th>\n",
              "      <th>1x5</th>\n",
              "      <th>1x6</th>\n",
              "      <th>1x7</th>\n",
              "      <th>1x8</th>\n",
              "      <th>1x9</th>\n",
              "      <th>1x10</th>\n",
              "      <th>...</th>\n",
              "      <th>28x19</th>\n",
              "      <th>28x20</th>\n",
              "      <th>28x21</th>\n",
              "      <th>28x22</th>\n",
              "      <th>28x23</th>\n",
              "      <th>28x24</th>\n",
              "      <th>28x25</th>\n",
              "      <th>28x26</th>\n",
              "      <th>28x27</th>\n",
              "      <th>28x28</th>\n",
              "    </tr>\n",
              "  </thead>\n",
              "  <tbody>\n",
              "    <tr>\n",
              "      <th>count</th>\n",
              "      <td>8602.0</td>\n",
              "      <td>8602.0</td>\n",
              "      <td>8602.0</td>\n",
              "      <td>8602.0</td>\n",
              "      <td>8602.0</td>\n",
              "      <td>8602.0</td>\n",
              "      <td>8602.0</td>\n",
              "      <td>8602.0</td>\n",
              "      <td>8602.0</td>\n",
              "      <td>8602.0</td>\n",
              "      <td>...</td>\n",
              "      <td>8601.000000</td>\n",
              "      <td>8601.000000</td>\n",
              "      <td>8601.000000</td>\n",
              "      <td>8601.000000</td>\n",
              "      <td>8601.000000</td>\n",
              "      <td>8601.0</td>\n",
              "      <td>8601.0</td>\n",
              "      <td>8601.0</td>\n",
              "      <td>8601.0</td>\n",
              "      <td>8601.0</td>\n",
              "    </tr>\n",
              "    <tr>\n",
              "      <th>mean</th>\n",
              "      <td>0.0</td>\n",
              "      <td>0.0</td>\n",
              "      <td>0.0</td>\n",
              "      <td>0.0</td>\n",
              "      <td>0.0</td>\n",
              "      <td>0.0</td>\n",
              "      <td>0.0</td>\n",
              "      <td>0.0</td>\n",
              "      <td>0.0</td>\n",
              "      <td>0.0</td>\n",
              "      <td>...</td>\n",
              "      <td>0.194629</td>\n",
              "      <td>0.108011</td>\n",
              "      <td>0.065923</td>\n",
              "      <td>0.040112</td>\n",
              "      <td>0.039181</td>\n",
              "      <td>0.0</td>\n",
              "      <td>0.0</td>\n",
              "      <td>0.0</td>\n",
              "      <td>0.0</td>\n",
              "      <td>0.0</td>\n",
              "    </tr>\n",
              "    <tr>\n",
              "      <th>std</th>\n",
              "      <td>0.0</td>\n",
              "      <td>0.0</td>\n",
              "      <td>0.0</td>\n",
              "      <td>0.0</td>\n",
              "      <td>0.0</td>\n",
              "      <td>0.0</td>\n",
              "      <td>0.0</td>\n",
              "      <td>0.0</td>\n",
              "      <td>0.0</td>\n",
              "      <td>0.0</td>\n",
              "      <td>...</td>\n",
              "      <td>5.757767</td>\n",
              "      <td>3.938018</td>\n",
              "      <td>3.578710</td>\n",
              "      <td>2.250611</td>\n",
              "      <td>2.208856</td>\n",
              "      <td>0.0</td>\n",
              "      <td>0.0</td>\n",
              "      <td>0.0</td>\n",
              "      <td>0.0</td>\n",
              "      <td>0.0</td>\n",
              "    </tr>\n",
              "    <tr>\n",
              "      <th>min</th>\n",
              "      <td>0.0</td>\n",
              "      <td>0.0</td>\n",
              "      <td>0.0</td>\n",
              "      <td>0.0</td>\n",
              "      <td>0.0</td>\n",
              "      <td>0.0</td>\n",
              "      <td>0.0</td>\n",
              "      <td>0.0</td>\n",
              "      <td>0.0</td>\n",
              "      <td>0.0</td>\n",
              "      <td>...</td>\n",
              "      <td>0.000000</td>\n",
              "      <td>0.000000</td>\n",
              "      <td>0.000000</td>\n",
              "      <td>0.000000</td>\n",
              "      <td>0.000000</td>\n",
              "      <td>0.0</td>\n",
              "      <td>0.0</td>\n",
              "      <td>0.0</td>\n",
              "      <td>0.0</td>\n",
              "      <td>0.0</td>\n",
              "    </tr>\n",
              "    <tr>\n",
              "      <th>25%</th>\n",
              "      <td>0.0</td>\n",
              "      <td>0.0</td>\n",
              "      <td>0.0</td>\n",
              "      <td>0.0</td>\n",
              "      <td>0.0</td>\n",
              "      <td>0.0</td>\n",
              "      <td>0.0</td>\n",
              "      <td>0.0</td>\n",
              "      <td>0.0</td>\n",
              "      <td>0.0</td>\n",
              "      <td>...</td>\n",
              "      <td>0.000000</td>\n",
              "      <td>0.000000</td>\n",
              "      <td>0.000000</td>\n",
              "      <td>0.000000</td>\n",
              "      <td>0.000000</td>\n",
              "      <td>0.0</td>\n",
              "      <td>0.0</td>\n",
              "      <td>0.0</td>\n",
              "      <td>0.0</td>\n",
              "      <td>0.0</td>\n",
              "    </tr>\n",
              "    <tr>\n",
              "      <th>50%</th>\n",
              "      <td>0.0</td>\n",
              "      <td>0.0</td>\n",
              "      <td>0.0</td>\n",
              "      <td>0.0</td>\n",
              "      <td>0.0</td>\n",
              "      <td>0.0</td>\n",
              "      <td>0.0</td>\n",
              "      <td>0.0</td>\n",
              "      <td>0.0</td>\n",
              "      <td>0.0</td>\n",
              "      <td>...</td>\n",
              "      <td>0.000000</td>\n",
              "      <td>0.000000</td>\n",
              "      <td>0.000000</td>\n",
              "      <td>0.000000</td>\n",
              "      <td>0.000000</td>\n",
              "      <td>0.0</td>\n",
              "      <td>0.0</td>\n",
              "      <td>0.0</td>\n",
              "      <td>0.0</td>\n",
              "      <td>0.0</td>\n",
              "    </tr>\n",
              "    <tr>\n",
              "      <th>75%</th>\n",
              "      <td>0.0</td>\n",
              "      <td>0.0</td>\n",
              "      <td>0.0</td>\n",
              "      <td>0.0</td>\n",
              "      <td>0.0</td>\n",
              "      <td>0.0</td>\n",
              "      <td>0.0</td>\n",
              "      <td>0.0</td>\n",
              "      <td>0.0</td>\n",
              "      <td>0.0</td>\n",
              "      <td>...</td>\n",
              "      <td>0.000000</td>\n",
              "      <td>0.000000</td>\n",
              "      <td>0.000000</td>\n",
              "      <td>0.000000</td>\n",
              "      <td>0.000000</td>\n",
              "      <td>0.0</td>\n",
              "      <td>0.0</td>\n",
              "      <td>0.0</td>\n",
              "      <td>0.0</td>\n",
              "      <td>0.0</td>\n",
              "    </tr>\n",
              "    <tr>\n",
              "      <th>max</th>\n",
              "      <td>0.0</td>\n",
              "      <td>0.0</td>\n",
              "      <td>0.0</td>\n",
              "      <td>0.0</td>\n",
              "      <td>0.0</td>\n",
              "      <td>0.0</td>\n",
              "      <td>0.0</td>\n",
              "      <td>0.0</td>\n",
              "      <td>0.0</td>\n",
              "      <td>0.0</td>\n",
              "      <td>...</td>\n",
              "      <td>254.000000</td>\n",
              "      <td>254.000000</td>\n",
              "      <td>253.000000</td>\n",
              "      <td>187.000000</td>\n",
              "      <td>154.000000</td>\n",
              "      <td>0.0</td>\n",
              "      <td>0.0</td>\n",
              "      <td>0.0</td>\n",
              "      <td>0.0</td>\n",
              "      <td>0.0</td>\n",
              "    </tr>\n",
              "  </tbody>\n",
              "</table>\n",
              "<p>8 rows × 784 columns</p>\n",
              "</div>\n",
              "      <button class=\"colab-df-convert\" onclick=\"convertToInteractive('df-2037faad-9969-4a37-b801-0376fa1bd658')\"\n",
              "              title=\"Convert this dataframe to an interactive table.\"\n",
              "              style=\"display:none;\">\n",
              "        \n",
              "  <svg xmlns=\"http://www.w3.org/2000/svg\" height=\"24px\"viewBox=\"0 0 24 24\"\n",
              "       width=\"24px\">\n",
              "    <path d=\"M0 0h24v24H0V0z\" fill=\"none\"/>\n",
              "    <path d=\"M18.56 5.44l.94 2.06.94-2.06 2.06-.94-2.06-.94-.94-2.06-.94 2.06-2.06.94zm-11 1L8.5 8.5l.94-2.06 2.06-.94-2.06-.94L8.5 2.5l-.94 2.06-2.06.94zm10 10l.94 2.06.94-2.06 2.06-.94-2.06-.94-.94-2.06-.94 2.06-2.06.94z\"/><path d=\"M17.41 7.96l-1.37-1.37c-.4-.4-.92-.59-1.43-.59-.52 0-1.04.2-1.43.59L10.3 9.45l-7.72 7.72c-.78.78-.78 2.05 0 2.83L4 21.41c.39.39.9.59 1.41.59.51 0 1.02-.2 1.41-.59l7.78-7.78 2.81-2.81c.8-.78.8-2.07 0-2.86zM5.41 20L4 18.59l7.72-7.72 1.47 1.35L5.41 20z\"/>\n",
              "  </svg>\n",
              "      </button>\n",
              "      \n",
              "  <style>\n",
              "    .colab-df-container {\n",
              "      display:flex;\n",
              "      flex-wrap:wrap;\n",
              "      gap: 12px;\n",
              "    }\n",
              "\n",
              "    .colab-df-convert {\n",
              "      background-color: #E8F0FE;\n",
              "      border: none;\n",
              "      border-radius: 50%;\n",
              "      cursor: pointer;\n",
              "      display: none;\n",
              "      fill: #1967D2;\n",
              "      height: 32px;\n",
              "      padding: 0 0 0 0;\n",
              "      width: 32px;\n",
              "    }\n",
              "\n",
              "    .colab-df-convert:hover {\n",
              "      background-color: #E2EBFA;\n",
              "      box-shadow: 0px 1px 2px rgba(60, 64, 67, 0.3), 0px 1px 3px 1px rgba(60, 64, 67, 0.15);\n",
              "      fill: #174EA6;\n",
              "    }\n",
              "\n",
              "    [theme=dark] .colab-df-convert {\n",
              "      background-color: #3B4455;\n",
              "      fill: #D2E3FC;\n",
              "    }\n",
              "\n",
              "    [theme=dark] .colab-df-convert:hover {\n",
              "      background-color: #434B5C;\n",
              "      box-shadow: 0px 1px 3px 1px rgba(0, 0, 0, 0.15);\n",
              "      filter: drop-shadow(0px 1px 2px rgba(0, 0, 0, 0.3));\n",
              "      fill: #FFFFFF;\n",
              "    }\n",
              "  </style>\n",
              "\n",
              "      <script>\n",
              "        const buttonEl =\n",
              "          document.querySelector('#df-2037faad-9969-4a37-b801-0376fa1bd658 button.colab-df-convert');\n",
              "        buttonEl.style.display =\n",
              "          google.colab.kernel.accessAllowed ? 'block' : 'none';\n",
              "\n",
              "        async function convertToInteractive(key) {\n",
              "          const element = document.querySelector('#df-2037faad-9969-4a37-b801-0376fa1bd658');\n",
              "          const dataTable =\n",
              "            await google.colab.kernel.invokeFunction('convertToInteractive',\n",
              "                                                     [key], {});\n",
              "          if (!dataTable) return;\n",
              "\n",
              "          const docLinkHtml = 'Like what you see? Visit the ' +\n",
              "            '<a target=\"_blank\" href=https://colab.research.google.com/notebooks/data_table.ipynb>data table notebook</a>'\n",
              "            + ' to learn more about interactive tables.';\n",
              "          element.innerHTML = '';\n",
              "          dataTable['output_type'] = 'display_data';\n",
              "          await google.colab.output.renderOutput(dataTable, element);\n",
              "          const docLink = document.createElement('div');\n",
              "          docLink.innerHTML = docLinkHtml;\n",
              "          element.appendChild(docLink);\n",
              "        }\n",
              "      </script>\n",
              "    </div>\n",
              "  </div>\n",
              "  "
            ]
          },
          "metadata": {},
          "execution_count": 10
        }
      ]
    },
    {
      "cell_type": "code",
      "source": [
        "#Distribution of the digits in the dataset\n",
        "_ = train['label'].value_counts().plot(kind='bar')\n",
        "plt.show()"
      ],
      "metadata": {
        "colab": {
          "base_uri": "https://localhost:8080/",
          "height": 262
        },
        "id": "EHV3dv6IhCo7",
        "outputId": "e2c1ad30-8e62-4d1f-9b6c-18de5e255a84"
      },
      "execution_count": null,
      "outputs": [
        {
          "output_type": "display_data",
          "data": {
            "text/plain": [
              "<Figure size 432x288 with 1 Axes>"
            ],
            "image/png": "[encoded data removed]"
          },
          "metadata": {
            "needs_background": "light"
          }
        }
      ]
    },
    {
      "cell_type": "code",
      "source": [
        "def remove_constant_pixels(pixels_df):\n",
        "    \"\"\"Removes from the images the pixels that have a constant intensity value,\n",
        "    either always black (0) or white (255)\n",
        "    Returns the cleared dataset & the list of the removed pixels (columns)\"\"\"\n",
        "\n",
        "    #Remove the pixels that are always black to compute faster\n",
        "    changing_pixels_df = pixels_df.loc[:]\n",
        "    dropped_pixels_b = []\n",
        "\n",
        "    #Pixels with max value =0 are pixels that never change\n",
        "    for col in pixels_df:\n",
        "        if changing_pixels_df[col].max() == 0:\n",
        "            changing_pixels_df.drop(columns=[col], inplace=True)\n",
        "            dropped_pixels_b.append(col)\n",
        "    print(\"Constantly black pixels that have been dropped: {}\".format(dropped_pixels_b))\n",
        "\n",
        "\n",
        "    #Same with pixels with min=255 (white pixels)\n",
        "    dropped_pixels_w = []\n",
        "    for col in changing_pixels_df:\n",
        "        if changing_pixels_df[col].min() == 255:\n",
        "            changing_pixels_df.drop(columns=[col], inplace=True)\n",
        "            dropped_pixel_w.append(col)\n",
        "    print(\"\\n Constantly white pixels that have been dropped: {}\".format(dropped_pixels_b))\n",
        "\n",
        "    print(changing_pixels_df.head())\n",
        "    print(\"Remaining pixels: {}\".format(len(changing_pixels_df.columns)))\n",
        "    print(\"Pixels removed: {}\".format(784-len(changing_pixels_df.columns)))\n",
        "    \n",
        "    return changing_pixels_df, dropped_pixels_b + dropped_pixels_w"
      ],
      "metadata": {
        "id": "V5fBDFYmsqJ6"
      },
      "execution_count": null,
      "outputs": []
    },
    {
      "cell_type": "code",
      "source": [
        "train_pixels_df = pd.read_csv('mnist_train.csv').drop(columns=['label'])\n",
        "train_changing_pixels_df, dropped_pixels = remove_constant_pixels(train_pixels_df)"
      ],
      "metadata": {
        "colab": {
          "base_uri": "https://localhost:8080/"
        },
        "id": "bqY81XEgswR8",
        "outputId": "8088afbf-5fd6-4f7d-cbac-e808a4bd4759"
      },
      "execution_count": null,
      "outputs": [
        {
          "output_type": "stream",
          "name": "stdout",
          "text": [
            "Constantly black pixels that have been dropped: ['1x1', '1x2', '1x3', '1x4', '1x5', '1x6', '1x7', '1x8', '1x9', '1x10', '1x11', '1x12', '1x13', '1x14', '1x15', '1x16', '1x17', '1x18', '1x19', '1x20', '1x21', '1x22', '1x23', '1x24', '1x25', '1x26', '1x27', '1x28', '2x1', '2x2', '2x3', '2x4', '2x5', '2x6', '2x7', '2x24', '2x25', '2x26', '2x27', '2x28', '3x1', '3x2', '3x3', '3x4', '3x26', '3x27', '3x28', '4x1', '4x2', '4x3', '4x4', '4x26', '4x27', '4x28', '5x1', '5x2', '5x3', '5x28', '6x1', '6x2', '7x1', '7x2', '11x1', '12x1', '13x1', '14x1', '14x28', '15x1', '15x28', '16x1', '17x1', '18x1', '19x1', '20x1', '20x2', '21x1', '22x1', '22x28', '23x1', '23x2', '23x28', '24x1', '24x2', '24x28', '25x1', '25x2', '25x3', '25x27', '25x28', '26x1', '26x2', '26x3', '26x26', '26x27', '26x28', '27x1', '27x2', '27x3', '27x25', '27x26', '27x27', '27x28', '28x1', '28x2', '28x3', '28x4', '28x5', '28x24', '28x25', '28x26', '28x27', '28x28']\n",
            "\n",
            " Constantly white pixels that have been dropped: ['1x1', '1x2', '1x3', '1x4', '1x5', '1x6', '1x7', '1x8', '1x9', '1x10', '1x11', '1x12', '1x13', '1x14', '1x15', '1x16', '1x17', '1x18', '1x19', '1x20', '1x21', '1x22', '1x23', '1x24', '1x25', '1x26', '1x27', '1x28', '2x1', '2x2', '2x3', '2x4', '2x5', '2x6', '2x7', '2x24', '2x25', '2x26', '2x27', '2x28', '3x1', '3x2', '3x3', '3x4', '3x26', '3x27', '3x28', '4x1', '4x2', '4x3', '4x4', '4x26', '4x27', '4x28', '5x1', '5x2', '5x3', '5x28', '6x1', '6x2', '7x1', '7x2', '11x1', '12x1', '13x1', '14x1', '14x28', '15x1', '15x28', '16x1', '17x1', '18x1', '19x1', '20x1', '20x2', '21x1', '22x1', '22x28', '23x1', '23x2', '23x28', '24x1', '24x2', '24x28', '25x1', '25x2', '25x3', '25x27', '25x28', '26x1', '26x2', '26x3', '26x26', '26x27', '26x28', '27x1', '27x2', '27x3', '27x25', '27x26', '27x27', '27x28', '28x1', '28x2', '28x3', '28x4', '28x5', '28x24', '28x25', '28x26', '28x27', '28x28']\n",
            "   2x8  2x9  2x10  2x11  2x12  2x13  2x14  2x15  2x16  2x17  ...  28x14  \\\n",
            "0    0    0     0     0     0     0     0     0     0     0  ...    0.0   \n",
            "1    0    0     0     0     0     0     0     0     0     0  ...    0.0   \n",
            "2    0    0     0     0     0     0     0     0     0     0  ...    0.0   \n",
            "3    0    0     0     0     0     0     0     0     0     0  ...    0.0   \n",
            "4    0    0     0     0     0     0     0     0     0     0  ...    0.0   \n",
            "\n",
            "   28x15  28x16  28x17  28x18  28x19  28x20  28x21  28x22  28x23  \n",
            "0    0.0    0.0    0.0    0.0    0.0    0.0    0.0    0.0    0.0  \n",
            "1    0.0    0.0    0.0    0.0    0.0    0.0    0.0    0.0    0.0  \n",
            "2    0.0    0.0    0.0    0.0    0.0    0.0    0.0    0.0    0.0  \n",
            "3    0.0    0.0    0.0    0.0    0.0    0.0    0.0    0.0    0.0  \n",
            "4    0.0    0.0    0.0    0.0    0.0    0.0    0.0    0.0    0.0  \n",
            "\n",
            "[5 rows x 672 columns]\n",
            "Remaining pixels: 672\n",
            "Pixels removed: 112\n"
          ]
        }
      ]
    },
    {
      "cell_type": "code",
      "source": [
        "#To save time and not have to run the entire function\n",
        "DROPPED_PIX = ['pixel0', 'pixel1', 'pixel2', 'pixel3', 'pixel4', 'pixel5', 'pixel6', 'pixel7', 'pixel8', 'pixel9', \n",
        "               'pixel10', 'pixel11', 'pixel16', 'pixel17', 'pixel18', 'pixel19', 'pixel20', 'pixel21', 'pixel22', \n",
        "               'pixel23', 'pixel24', 'pixel25', 'pixel26', 'pixel27', 'pixel28', 'pixel29', 'pixel30', 'pixel31', \n",
        "               'pixel52', 'pixel53', 'pixel54', 'pixel55', 'pixel56', 'pixel57', 'pixel82', 'pixel83', 'pixel84', \n",
        "               'pixel85', 'pixel111', 'pixel112', 'pixel139', 'pixel140', 'pixel141', 'pixel168', 'pixel196', \n",
        "               'pixel392', 'pixel420', 'pixel421', 'pixel448', 'pixel476', 'pixel532', 'pixel560', 'pixel644', \n",
        "               'pixel645', 'pixel671', 'pixel672', 'pixel673', 'pixel699', 'pixel700', 'pixel701', 'pixel727', \n",
        "               'pixel728', 'pixel729', 'pixel730', 'pixel731', 'pixel754', 'pixel755', 'pixel756', 'pixel757', \n",
        "               'pixel758', 'pixel759', 'pixel760', 'pixel780', 'pixel781', 'pixel782', 'pixel783']\n",
        "train_changing_pixels_df = pd.read_csv('mnist_train.csv', index_col=0)\n",
        "print(train_changing_pixels_df.head())\n",
        "train = pd.read_csv('mnist_train.csv')\n",
        "print(train.head())"
      ],
      "metadata": {
        "colab": {
          "base_uri": "https://localhost:8080/"
        },
        "id": "fiK-NRndtTvJ",
        "outputId": "143e92a2-42fc-446a-df99-e7f323c781b5"
      },
      "execution_count": null,
      "outputs": [
        {
          "output_type": "stream",
          "name": "stdout",
          "text": [
            "       1x1  1x2  1x3  1x4  1x5  1x6  1x7  1x8  1x9  1x10  ...  28x19  28x20  \\\n",
            "label                                                     ...                 \n",
            "5        0    0    0    0    0    0    0    0    0     0  ...    0.0    0.0   \n",
            "0        0    0    0    0    0    0    0    0    0     0  ...    0.0    0.0   \n",
            "4        0    0    0    0    0    0    0    0    0     0  ...    0.0    0.0   \n",
            "1        0    0    0    0    0    0    0    0    0     0  ...    0.0    0.0   \n",
            "9        0    0    0    0    0    0    0    0    0     0  ...    0.0    0.0   \n",
            "\n",
            "       28x21  28x22  28x23  28x24  28x25  28x26  28x27  28x28  \n",
            "label                                                          \n",
            "5        0.0    0.0    0.0    0.0    0.0    0.0    0.0    0.0  \n",
            "0        0.0    0.0    0.0    0.0    0.0    0.0    0.0    0.0  \n",
            "4        0.0    0.0    0.0    0.0    0.0    0.0    0.0    0.0  \n",
            "1        0.0    0.0    0.0    0.0    0.0    0.0    0.0    0.0  \n",
            "9        0.0    0.0    0.0    0.0    0.0    0.0    0.0    0.0  \n",
            "\n",
            "[5 rows x 784 columns]\n",
            "   label  1x1  1x2  1x3  1x4  1x5  1x6  1x7  1x8  1x9  ...  28x19  28x20  \\\n",
            "0      5    0    0    0    0    0    0    0    0    0  ...    0.0    0.0   \n",
            "1      0    0    0    0    0    0    0    0    0    0  ...    0.0    0.0   \n",
            "2      4    0    0    0    0    0    0    0    0    0  ...    0.0    0.0   \n",
            "3      1    0    0    0    0    0    0    0    0    0  ...    0.0    0.0   \n",
            "4      9    0    0    0    0    0    0    0    0    0  ...    0.0    0.0   \n",
            "\n",
            "   28x21  28x22  28x23  28x24  28x25  28x26  28x27  28x28  \n",
            "0    0.0    0.0    0.0    0.0    0.0    0.0    0.0    0.0  \n",
            "1    0.0    0.0    0.0    0.0    0.0    0.0    0.0    0.0  \n",
            "2    0.0    0.0    0.0    0.0    0.0    0.0    0.0    0.0  \n",
            "3    0.0    0.0    0.0    0.0    0.0    0.0    0.0    0.0  \n",
            "4    0.0    0.0    0.0    0.0    0.0    0.0    0.0    0.0  \n",
            "\n",
            "[5 rows x 785 columns]\n"
          ]
        }
      ]
    },
    {
      "cell_type": "code",
      "source": [
        "#Pick-up one random image from original training set\n",
        "i = np.random.randint(low=0, high=8602, size=1).tolist()[0]\n",
        "pixels = train.iloc[i, 1:]\n",
        "image = train.iloc[i, 1:].values.reshape((28,28))\n",
        "\n",
        "#Pixel intensity hstogram\n",
        "plt.hist(pixels, bins=256, range=(0,256))\n",
        "plt.title('original image - pixel intensity distribution')\n",
        "plt.show()\n",
        "\n",
        "#Rescaling the intensity\n",
        "pmin, pmax = image.min(), image.max()\n",
        "rescaled_image = 255*(image-pmin) / (pmax - pmin)\n",
        "rescaled_pixels = rescaled_image.flatten()\n",
        "\n",
        "#Only black or white pixels\n",
        "bw_pixels = pixels.apply(lambda x: 0 if x<128 else 255)\n",
        "bw_image = bw_pixels.values.reshape((28,28))"
      ],
      "metadata": {
        "colab": {
          "base_uri": "https://localhost:8080/",
          "height": 281
        },
        "id": "OhcEyzZ3tiwa",
        "outputId": "7011e1da-af6a-48f1-c916-55257df83a1b"
      },
      "execution_count": null,
      "outputs": [
        {
          "output_type": "display_data",
          "data": {
            "text/plain": [
              "<Figure size 432x288 with 1 Axes>"
            ],
            "image/png": "[encoded data removed]"
          },
          "metadata": {
            "needs_background": "light"
          }
        }
      ]
    },
    {
      "cell_type": "code",
      "source": [
        "#Visual comparison of images\n",
        "plt.subplot(1, 3, 1)\n",
        "plt.imshow(image, cmap='gray')\n",
        "plt.title('original image')\n",
        "plt.subplot(1, 3, 2)\n",
        "plt.imshow(rescaled_image, cmap='gray')\n",
        "plt.title('rescaled image')\n",
        "plt.subplot(1, 3, 3)\n",
        "plt.imshow(bw_image, cmap='gray')\n",
        "plt.title('black&wite only image')\n",
        "plt.show()"
      ],
      "metadata": {
        "colab": {
          "base_uri": "https://localhost:8080/",
          "height": 162
        },
        "id": "t39jT_L7ujWY",
        "outputId": "058fc39d-c546-40c9-ebb6-ebbffadcccd2"
      },
      "execution_count": null,
      "outputs": [
        {
          "output_type": "display_data",
          "data": {
            "text/plain": [
              "<Figure size 432x288 with 3 Axes>"
            ],
            "image/png": "[encoded data removed]"
          },
          "metadata": {
            "needs_background": "light"
          }
        }
      ]
    },
    {
      "cell_type": "code",
      "source": [
        "#Visual Histogram comparison\n",
        "plt.subplot(1, 2, 1)\n",
        "plt.hist(pixels, bins=256, range=(0,256))\n",
        "plt.title('original image')\n",
        "plt.subplot(1, 2, 2)\n",
        "plt.hist(rescaled_pixels, bins=256, range=(0,256))\n",
        "plt.title('rescaled image')\n",
        "plt.show()"
      ],
      "metadata": {
        "colab": {
          "base_uri": "https://localhost:8080/",
          "height": 281
        },
        "id": "8ZMA0GK1u-wi",
        "outputId": "bd57aad4-d832-4356-8ccf-d0b706d50882"
      },
      "execution_count": null,
      "outputs": [
        {
          "output_type": "display_data",
          "data": {
            "text/plain": [
              "<Figure size 432x288 with 2 Axes>"
            ],
            "image/png": "[encoded data removed]"
          },
          "metadata": {
            "needs_background": "light"
          }
        }
      ]
    },
    {
      "cell_type": "code",
      "source": [
        "#Preparing samples and labels arrays\n",
        "#s = np.random.randint(low=0, high=42001, size=1050).tolist()\n",
        "samples = train_changing_pixels_df.values  #.iloc[s, :]\n",
        "digits = train['label'].tolist()  #.iloc[s, :]\n",
        "print(samples.shape)"
      ],
      "metadata": {
        "colab": {
          "base_uri": "https://localhost:8080/"
        },
        "id": "9y-hTEBCv7wz",
        "outputId": "42429afd-cc40-4b0f-f05e-c3172d9f6adb"
      },
      "execution_count": null,
      "outputs": [
        {
          "output_type": "stream",
          "name": "stdout",
          "text": [
            "(8602, 784)\n"
          ]
        }
      ]
    },
    {
      "cell_type": "code",
      "source": [
        "\n"
      ],
      "metadata": {
        "id": "aj1pduWXwlvL"
      },
      "execution_count": null,
      "outputs": []
    }
  ]
}